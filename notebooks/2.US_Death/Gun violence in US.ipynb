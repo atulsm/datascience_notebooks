{
 "cells": [
  {
   "cell_type": "markdown",
   "metadata": {},
   "source": [
    "# Checking homicide rate of US for races"
   ]
  },
  {
   "cell_type": "markdown",
   "metadata": {},
   "source": [
    "# Reading data"
   ]
  },
  {
   "cell_type": "code",
   "execution_count": 1,
   "metadata": {
    "collapsed": false
   },
   "outputs": [
    {
     "name": "stdout",
     "output_type": "stream",
     "text": [
      "['', 'year', 'month', 'intent', 'police', 'sex', 'age', 'race', 'hispanic', 'place', 'education']\n",
      "['1', '2012', '01', 'Suicide', '0', 'M', '34', 'Asian/Pacific Islander', '100', 'Home', '4']\n",
      "['2', '2012', '01', 'Suicide', '0', 'F', '21', 'White', '100', 'Street', '3']\n",
      "['3', '2012', '01', 'Suicide', '0', 'M', '60', 'White', '100', 'Other specified', '4']\n",
      "['4', '2012', '02', 'Suicide', '0', 'M', '64', 'White', '100', 'Home', '4']\n"
     ]
    }
   ],
   "source": [
    "import csv\n",
    "\n",
    "data = list(csv.reader(open(\"guns.csv\",\"r\")))\n",
    "\n",
    "def print5(data):\n",
    "    for data1 in data[0:5]:\n",
    "        print(data1)\n",
    "        \n",
    "print5(data)        "
   ]
  },
  {
   "cell_type": "code",
   "execution_count": 2,
   "metadata": {
    "collapsed": false
   },
   "outputs": [
    {
     "name": "stdout",
     "output_type": "stream",
     "text": [
      "['1', '2012', '01', 'Suicide', '0', 'M', '34', 'Asian/Pacific Islander', '100', 'Home', '4']\n",
      "['2', '2012', '01', 'Suicide', '0', 'F', '21', 'White', '100', 'Street', '3']\n",
      "['3', '2012', '01', 'Suicide', '0', 'M', '60', 'White', '100', 'Other specified', '4']\n",
      "['4', '2012', '02', 'Suicide', '0', 'M', '64', 'White', '100', 'Home', '4']\n",
      "['5', '2012', '02', 'Suicide', '0', 'M', '31', 'White', '100', 'Other specified', '2']\n"
     ]
    }
   ],
   "source": [
    "headers = data[0:1]\n",
    "data = data[1:len(data)]\n",
    "print5(data)\n"
   ]
  },
  {
   "cell_type": "markdown",
   "metadata": {},
   "source": [
    "# Death by year"
   ]
  },
  {
   "cell_type": "code",
   "execution_count": 3,
   "metadata": {
    "collapsed": false
   },
   "outputs": [
    {
     "name": "stdout",
     "output_type": "stream",
     "text": [
      "{'2012': 33563, '2013': 33636, '2014': 33599}\n"
     ]
    }
   ],
   "source": [
    "years = [row[1] for row in data]\n",
    "year_counts={}\n",
    "for year in years:\n",
    "    if year in year_counts:\n",
    "        year_counts[year] += 1\n",
    "    else:\n",
    "        year_counts[year]=1\n",
    "print(year_counts)        "
   ]
  },
  {
   "cell_type": "code",
   "execution_count": 4,
   "metadata": {
    "collapsed": false
   },
   "outputs": [
    {
     "name": "stdout",
     "output_type": "stream",
     "text": [
      "[datetime.datetime(2012, 1, 1, 0, 0), datetime.datetime(2012, 1, 1, 0, 0), datetime.datetime(2012, 1, 1, 0, 0), datetime.datetime(2012, 2, 1, 0, 0), datetime.datetime(2012, 2, 1, 0, 0)]\n"
     ]
    }
   ],
   "source": [
    "import datetime\n",
    "dates = [datetime.datetime(year=int(row[1]), month=int(row[2]),day=1) for row in data]\n",
    "print(dates[0:5])"
   ]
  },
  {
   "cell_type": "code",
   "execution_count": 5,
   "metadata": {
    "collapsed": false
   },
   "outputs": [],
   "source": [
    "date_counts={}\n",
    "for date in dates:\n",
    "    if date in date_counts:\n",
    "        date_counts[date] += 1\n",
    "    else:\n",
    "        date_counts[date]=1\n"
   ]
  },
  {
   "cell_type": "markdown",
   "metadata": {},
   "source": [
    "# Death Male/Female"
   ]
  },
  {
   "cell_type": "code",
   "execution_count": 21,
   "metadata": {
    "collapsed": false
   },
   "outputs": [
    {
     "name": "stdout",
     "output_type": "stream",
     "text": [
      "{'M': 86349, 'F': 14449}\n"
     ]
    }
   ],
   "source": [
    "sexs = [row[5] for row in data]\n",
    "sex_counts={}\n",
    "for sex in sexs:\n",
    "    if sex in sex_counts:\n",
    "        sex_counts[sex] += 1\n",
    "    else:\n",
    "        sex_counts[sex]=1\n",
    "print(sex_counts)     "
   ]
  },
  {
   "cell_type": "markdown",
   "metadata": {},
   "source": [
    "# Total death by race"
   ]
  },
  {
   "cell_type": "code",
   "execution_count": 23,
   "metadata": {
    "collapsed": false
   },
   "outputs": [
    {
     "name": "stdout",
     "output_type": "stream",
     "text": [
      "{'Native American/Native Alaskan': 917, 'Hispanic': 9022, 'Black': 23296, 'Asian/Pacific Islander': 1326, 'White': 66237}\n"
     ]
    }
   ],
   "source": [
    "races = [row[7] for row in data]\n",
    "race_counts={}\n",
    "for race in races:\n",
    "    if race in race_counts:\n",
    "        race_counts[race] += 1\n",
    "    else:\n",
    "        race_counts[race]=1\n",
    "print(race_counts) "
   ]
  },
  {
   "cell_type": "markdown",
   "metadata": {},
   "source": [
    "# Loading census data for calculating percentage per 100000"
   ]
  },
  {
   "cell_type": "code",
   "execution_count": 6,
   "metadata": {
    "collapsed": false
   },
   "outputs": [
    {
     "name": "stdout",
     "output_type": "stream",
     "text": [
      "[\"'Id'\", \" 'Year'\", \" 'Id'\", \" 'Sex'\", \" 'Id'\", \" 'Hispanic Origin'\", \" 'Id'\", \" 'Id2'\", \" 'Geography'\", \" 'Total'\", \" 'Race Alone - White'\", \" 'Race Alone - Hispanic'\", \" 'Race Alone - Black or African American'\", \" 'Race Alone - American Indian and Alaska Native'\", \" 'Race Alone - Asian'\", \" 'Race Alone - Native Hawaiian and Other Pacific Islander'\", \" 'Two or More Races'\"]\n",
      "[\"'cen42010'\", \" 'April 1\", \" 2010 Census'\", \" 'totsex'\", \" 'Both Sexes'\", \" 'tothisp'\", \" 'Total'\", \" '0100000US'\", \" ''\", \" 'United States'\", \" '308745538'\", \" '197318956'\", \" '44618105'\", \" '40250635'\", \" '3739506'\", \" '15159516'\", \" '674625'\", \" '6984195'\"]\n"
     ]
    }
   ],
   "source": [
    "census = list(csv.reader(open(\"census.csv\",\"r\")))      \n",
    "print(census[0])\n",
    "print(census[1])"
   ]
  },
  {
   "cell_type": "markdown",
   "metadata": {},
   "source": [
    "# Manually mapping census data with guns.csv race data"
   ]
  },
  {
   "cell_type": "code",
   "execution_count": 30,
   "metadata": {
    "collapsed": false
   },
   "outputs": [
    {
     "name": "stdout",
     "output_type": "stream",
     "text": [
      "{'Native American/Native Alaskan': 24.521955573811088, 'Hispanic': 20.220491210910907, 'Asian/Pacific Islander': 8.374309664161762, 'White': 33.56849303419181, 'Black': 57.8773477735196}\n"
     ]
    }
   ],
   "source": [
    "mapping  = {}\n",
    "mapping[\"Native American/Native Alaskan\"] = 3739506\n",
    "mapping[\"Hispanic\"] = 44618105\n",
    "mapping[\"Black\"] = 40250635\n",
    "mapping[\"Asian/Pacific Islander\"] = 15159516 + 674625\n",
    "mapping[\"White\"] = 197318956\n",
    "\n",
    "race_per_hundredk = {}\n",
    "for race in race_counts:\n",
    "    race_per_hundredk[race] = (float(race_counts[race])/float(mapping[race]))*100000\n",
    "print(race_per_hundredk)    "
   ]
  },
  {
   "cell_type": "markdown",
   "metadata": {},
   "source": [
    "# Calculating homicide rates per race"
   ]
  },
  {
   "cell_type": "code",
   "execution_count": 34,
   "metadata": {
    "collapsed": false
   },
   "outputs": [
    {
     "name": "stdout",
     "output_type": "stream",
     "text": [
      "{'Native American/Native Alaskan': 8.717729026240365, 'Hispanic': 12.627161104219914, 'Black': 48.471284987180944, 'Asian/Pacific Islander': 3.530346230970155, 'White': 4.6356417981453335}\n"
     ]
    }
   ],
   "source": [
    "intents = [row[3] for row in data]\n",
    "races = [row[7] for row in data]\n",
    "homicide_race_per_hundredk = {}\n",
    "\n",
    "for i, race in enumerate(races):\n",
    "    intent = intents[i]\n",
    "    if intent == \"Homicide\":\n",
    "        if race in homicide_race_per_hundredk:\n",
    "            homicide_race_per_hundredk[race]+=1\n",
    "        else:\n",
    "            homicide_race_per_hundredk[race]=1\n",
    "\n",
    "for race in homicide_race_per_hundredk:\n",
    "    homicide_race_per_hundredk[race] = (float(homicide_race_per_hundredk[race])/float(mapping[race]))*100000\n",
    "print(homicide_race_per_hundredk)          "
   ]
  },
  {
   "cell_type": "markdown",
   "metadata": {},
   "source": [
    "# Findings\n",
    "\n",
    "Blacks(48) and hispanics (12) are most affected by gun violence in US.\n",
    "\n",
    "Asians(3) and whites(4) are least affected"
   ]
  },
  {
   "cell_type": "code",
   "execution_count": null,
   "metadata": {
    "collapsed": true
   },
   "outputs": [],
   "source": []
  }
 ],
 "metadata": {
  "kernelspec": {
   "display_name": "Python 3",
   "language": "python",
   "name": "python3"
  },
  "language_info": {
   "codemirror_mode": {
    "name": "ipython",
    "version": 3
   },
   "file_extension": ".py",
   "mimetype": "text/x-python",
   "name": "python",
   "nbconvert_exporter": "python",
   "pygments_lexer": "ipython3",
   "version": "3.6.0"
  }
 },
 "nbformat": 4,
 "nbformat_minor": 0
}
