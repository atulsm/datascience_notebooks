{
 "cells": [
  {
   "cell_type": "markdown",
   "metadata": {
    "collapsed": true
   },
   "source": [
    "#1 Read the CSV file \"US_births_1994-2003_CDC_NCHS.csv\" into a list of list. "
   ]
  },
  {
   "cell_type": "code",
   "execution_count": 2,
   "metadata": {
    "collapsed": false
   },
   "outputs": [
    {
     "name": "stdout",
     "output_type": "stream",
     "text": [
      "['']\n",
      "[[''], [''], [''], [''], [''], ['<!DOCTYPE html>'], ['<html lang=\"en\">'], ['  <head>'], ['    <meta charset=\"utf-8\">'], ['']]\n"
     ]
    }
   ],
   "source": [
    "def read_csv(file_name, remove_header=False, print_header=False):   \n",
    "    rawdata = open(file_name,\"r\").read()\n",
    "    lines = []\n",
    "    for a in rawdata.split('\\n'):\n",
    "        lines.append(a.split(','))\n",
    "    \n",
    "    if print_header:\n",
    "        print(lines[0])\n",
    "    \n",
    "    if remove_header:\n",
    "        lines = lines[1:len(lines)]\n",
    "        \n",
    "    return lines;\n",
    "\n",
    "cdc_list = read_csv(\"US_births_1994-2003_CDC_NCHS.csv\",True, True)\n",
    "print(cdc_list[0:10])    "
   ]
  },
  {
   "cell_type": "markdown",
   "metadata": {},
   "source": [
    "#2 Write a dictionary sort"
   ]
  },
  {
   "cell_type": "code",
   "execution_count": 21,
   "metadata": {
    "collapsed": false
   },
   "outputs": [],
   "source": [
    "def print_sort(dict):\n",
    "    for key in sorted(dict):\n",
    "        print(\"%s: %s\" % (key, dict[key]))"
   ]
  },
  {
   "cell_type": "markdown",
   "metadata": {},
   "source": [
    "#3 Write generic function to calculate birth for any column"
   ]
  },
  {
   "cell_type": "code",
   "execution_count": 23,
   "metadata": {
    "collapsed": false
   },
   "outputs": [
    {
     "name": "stdout",
     "output_type": "stream",
     "text": [
      "1994: 3952767\n",
      "1995: 3899589\n",
      "1996: 3891494\n",
      "1997: 3880894\n",
      "1998: 3941553\n",
      "1999: 3959417\n",
      "2000: 4058814\n",
      "2001: 4025933\n",
      "2002: 4021726\n",
      "2003: 4089950\n"
     ]
    }
   ],
   "source": [
    "def count_births(list, column):\n",
    "    births = {}\n",
    "    \n",
    "    for val in list:\n",
    "        #birth is 5th element\n",
    "        birth = int(val[4])\n",
    "        if val[column] in births:\n",
    "            births[val[column]] = births[val[column]] + birth \n",
    "        else:\n",
    "            births[val[column]] = birth \n",
    "            \n",
    "    return births\n",
    "\n",
    "cdc_year_births = count_births(cdc_list,0)\n",
    "cdc_month_births = count_births(cdc_list,1)\n",
    "cdc_dom_births = count_births(cdc_list,2)\n",
    "cdc_dow_births = count_births(cdc_list,3)\n",
    "\n",
    "print_sort(cdc_year_births)\n",
    "#print_sort(cdc_month_births)\n",
    "#print_sort(cdc_dom_births)\n",
    "#print_sort(cdc_dow_births)"
   ]
  },
  {
   "cell_type": "code",
   "execution_count": null,
   "metadata": {
    "collapsed": true
   },
   "outputs": [],
   "source": []
  }
 ],
 "metadata": {
  "anaconda-cloud": {},
  "kernelspec": {
   "display_name": "Python 3",
   "language": "python",
   "name": "python3"
  },
  "language_info": {
   "codemirror_mode": {
    "name": "ipython",
    "version": 3
   },
   "file_extension": ".py",
   "mimetype": "text/x-python",
   "name": "python",
   "nbconvert_exporter": "python",
   "pygments_lexer": "ipython3",
   "version": "3.6.0"
  }
 },
 "nbformat": 4,
 "nbformat_minor": 1
}
